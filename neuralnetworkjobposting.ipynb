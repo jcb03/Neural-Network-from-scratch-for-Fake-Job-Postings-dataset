{
 "cells": [
  {
   "cell_type": "code",
   "execution_count": 4,
   "id": "78c5be2d-78aa-49fb-9f12-a01723139650",
   "metadata": {},
   "outputs": [
    {
     "name": "stdout",
     "output_type": "stream",
     "text": [
      "✅ All libraries imported successfully!\n",
      "📊 Ready to work with the real Fake Job Postings dataset!\n"
     ]
    }
   ],
   "source": [
    "#  Data Preparation Libraries\n",
    "import pandas as pd               # For data loading and manipulation (CSV, DataFrame)\n",
    "import numpy as np                # For numerical operations and arrays\n",
    "import re                         # For regular expressions (text cleaning)\n",
    "import string                     # For text cleaning (punctuation removal)\n",
    "import warnings\n",
    "warnings.filterwarnings('ignore')\n",
    "\n",
    "# Text Preprocessing and Feature Extraction\n",
    "from sklearn.feature_extraction.text import CountVectorizer, TfidfVectorizer  # For text vectorization\n",
    "from sklearn.preprocessing import LabelEncoder, OneHotEncoder                 # For encoding categorical variables\n",
    "from sklearn.model_selection import train_test_split                          # For splitting data into train/test\n",
    "from sklearn.impute import SimpleImputer                                      # For handling missing values\n",
    "from sklearn.utils import shuffle                                             # For shuffling the dataset\n",
    "\n",
    "# Natural Language Processing (for advanced text cleaning)\n",
    "import nltk                             # Natural Language Toolkit (tokenization, stopwords)\n",
    "from nltk.corpus import stopwords       # For removing stopwords\n",
    "from nltk.stem import PorterStemmer     # For stemming words\n",
    "from nltk.tokenize import word_tokenize # For tokenization\n",
    "\n",
    "# Evaluation and Visualization \n",
    "from sklearn.metrics import accuracy_score, precision_score, recall_score, f1_score, confusion_matrix, roc_auc_score, classification_report\n",
    "import matplotlib.pyplot as plt         # For plotting loss curves, confusion matrix, etc.\n",
    "import seaborn as sns                   # For better visualizations\n",
    "\n",
    "print(\"✅ All libraries imported successfully!\")\n",
    "print(\"📊 Ready to work with the real Fake Job Postings dataset!\")"
   ]
  },
  {
   "cell_type": "markdown",
   "id": "5fdcadec-adbb-4d0b-9a01-1b85ffae3973",
   "metadata": {},
   "source": [
    "#                                                          LOADING THE DATASET "
   ]
  },
  {
   "cell_type": "code",
   "execution_count": 68,
   "id": "a63dec9f-584d-4554-a755-d950361dd672",
   "metadata": {},
   "outputs": [
    {
     "name": "stdout",
     "output_type": "stream",
     "text": [
      "✅ Real dataset loaded successfully!\n",
      "📊 Dataset shape: (17880, 18)\n",
      "\n",
      "📋 All columns in the dataset:\n",
      " 1.job_id\n",
      " 2.title\n",
      " 3.location\n",
      " 4.department\n",
      " 5.salary_range\n",
      " 6.company_profile\n",
      " 7.description\n",
      " 8.requirements\n",
      " 9.benefits\n",
      "10.telecommuting\n",
      "11.has_company_logo\n",
      "12.has_questions\n",
      "13.employment_type\n",
      "14.required_experience\n",
      "15.required_education\n",
      "16.industry\n",
      "17.function\n",
      "18.fraudulent\n",
      "\n",
      "🎯 Target variable distribution:\n",
      "  Real Jobs(0): 17,014 (95.2%)\n",
      "  Fake Jobs(1): 866 (4.8%)\n",
      "\n",
      "❓ Missing values analysis: \n"
     ]
    }
   ],
   "source": [
    "def load_dataset(file_path='fake_job_postings.csv'): \n",
    "    try:\n",
    "        df=pd.read_csv(file_path)\n",
    "        print(\"✅ Real dataset loaded successfully!\")\n",
    "        \n",
    "        print(f\"📊 Dataset shape: {df.shape}\")\n",
    "        \n",
    "        print(f\"\\n📋 All columns in the dataset:\")\n",
    "        for i,col in enumerate (df.columns, 1):\n",
    "            print(f\"{i:2d}.{col}\")\n",
    "\n",
    "        print(f\"\\n🎯 Target variable distribution:\")\n",
    "        if 'fraudulent' in df.columns:\n",
    "            target_dist=df['fraudulent'].value_counts()\n",
    "        print(f\"  Real Jobs(0): {target_dist[0]:,} ({target_dist[0]/len(df)*100:.1f}%)\")\n",
    "        print(f\"  Fake Jobs(1): {target_dist[1]:,} ({target_dist[1]/len(df)*100:.1f}%)\")\n",
    "\n",
    "\n",
    "        print(f\"\\n❓ Missing values analysis: \")\n",
    "        \n",
    "    \n",
    "    except FileNotFoundError:\n",
    "        print(\"❌ Error: Dataset file not found!\")\n",
    "        print(\"📥 Please download the dataset from:\")\n",
    "        print(\"   https://www.kaggle.com/datasets/shivamb/real-or-fake-fake-jobposting-prediction\")\n",
    "        print(\"   Save it as 'fake_job_postings.csv' in your working directory\")\n",
    "        return None\n",
    "        \n",
    "    except Exception as e:\n",
    "        print(f\"❌ Error loading dataset: {str(e)}\")\n",
    "        return None\n",
    "\n",
    "df=load_dataset()"
   ]
  },
  {
   "cell_type": "code",
   "execution_count": null,
   "id": "e6ad9de2-12b1-4297-9629-8081cd942d6f",
   "metadata": {},
   "outputs": [],
   "source": []
  }
 ],
 "metadata": {
  "kernelspec": {
   "display_name": "Python [conda env:base] *",
   "language": "python",
   "name": "conda-base-py"
  },
  "language_info": {
   "codemirror_mode": {
    "name": "ipython",
    "version": 3
   },
   "file_extension": ".py",
   "mimetype": "text/x-python",
   "name": "python",
   "nbconvert_exporter": "python",
   "pygments_lexer": "ipython3",
   "version": "3.12.7"
  }
 },
 "nbformat": 4,
 "nbformat_minor": 5
}
