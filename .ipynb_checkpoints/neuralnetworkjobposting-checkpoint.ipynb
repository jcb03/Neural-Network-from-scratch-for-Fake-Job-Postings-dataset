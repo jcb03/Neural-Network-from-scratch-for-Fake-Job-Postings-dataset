{
 "cells": [
  {
   "cell_type": "code",
   "execution_count": 1,
   "id": "78c5be2d-78aa-49fb-9f12-a01723139650",
   "metadata": {},
   "outputs": [],
   "source": [
    "#  Data Preparation Libraries\n",
    "import pandas as pd               # For data loading and manipulation (CSV, DataFrame)\n",
    "import numpy as np                # For numerical operations and arrays\n",
    "import re                         # For regular expressions (text cleaning)\n",
    "import string                     # For text cleaning (punctuation removal)\n",
    "\n",
    "# Text Preprocessing and Feature Extraction\n",
    "from sklearn.feature_extraction.text import CountVectorizer, TfidfVectorizer  # For text vectorization\n",
    "from sklearn.preprocessing import LabelEncoder, OneHotEncoder                 # For encoding categorical variables\n",
    "from sklearn.model_selection import train_test_split                          # For splitting data into train/test\n",
    "from sklearn.impute import SimpleImputer                                      # For handling missing values\n",
    "from sklearn.utils import shuffle                                             # For shuffling the dataset\n",
    "\n",
    "# Natural Language Processing (for advanced text cleaning)\n",
    "import nltk                             # Natural Language Toolkit (tokenization, stopwords)\n",
    "from nltk.corpus import stopwords       # For removing stopwords\n",
    "from nltk.stem import PorterStemmer     # For stemming words\n",
    "from nltk.tokenize import word_tokenize # For tokenization\n",
    "\n",
    "# Evaluation and Visualization \n",
    "from sklearn.metrics import accuracy_score, precision_score, recall_score, f1_score, confusion_matrix, roc_auc_score, classification_report\n",
    "import matplotlib.pyplot as plt         # For plotting loss curves, confusion matrix, etc.\n",
    "import seaborn as sns                   # For better visualizations"
   ]
  },
  {
   "cell_type": "code",
   "execution_count": null,
   "id": "3b15f4dd-e98c-4aed-82d2-19720ac18cde",
   "metadata": {},
   "outputs": [],
   "source": []
  }
 ],
 "metadata": {
  "kernelspec": {
   "display_name": "Python [conda env:base] *",
   "language": "python",
   "name": "conda-base-py"
  },
  "language_info": {
   "codemirror_mode": {
    "name": "ipython",
    "version": 3
   },
   "file_extension": ".py",
   "mimetype": "text/x-python",
   "name": "python",
   "nbconvert_exporter": "python",
   "pygments_lexer": "ipython3",
   "version": "3.12.7"
  }
 },
 "nbformat": 4,
 "nbformat_minor": 5
}
